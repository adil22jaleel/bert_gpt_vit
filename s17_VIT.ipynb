{
 "cells": [
  {
   "cell_type": "code",
   "execution_count": 1,
   "id": "3af2d685",
   "metadata": {
    "colab": {
     "base_uri": "https://localhost:8080/"
    },
    "id": "OsfzQJD4lB2z",
    "outputId": "d5a5ce00-ca62-4ba7-9284-dc17fd1dc1a5"
   },
   "outputs": [
    {
     "name": "stdout",
     "output_type": "stream",
     "text": [
      "Collecting transformers\n",
      "  Downloading transformers-4.33.2-py3-none-any.whl (7.6 MB)\n",
      "\u001b[2K     \u001b[90m━━━━━━━━━━━━━━━━━━━━━━━━━━━━━━━━━━━━━━━━\u001b[0m \u001b[32m7.6/7.6 MB\u001b[0m \u001b[31m70.5 MB/s\u001b[0m eta \u001b[36m0:00:00\u001b[0m\n",
      "\u001b[?25hRequirement already satisfied: filelock in /usr/local/lib/python3.10/dist-packages (from transformers) (3.12.2)\n",
      "Collecting huggingface-hub<1.0,>=0.15.1 (from transformers)\n",
      "  Downloading huggingface_hub-0.17.1-py3-none-any.whl (294 kB)\n",
      "\u001b[2K     \u001b[90m━━━━━━━━━━━━━━━━━━━━━━━━━━━━━━━━━━━━━━\u001b[0m \u001b[32m294.8/294.8 kB\u001b[0m \u001b[31m35.7 MB/s\u001b[0m eta \u001b[36m0:00:00\u001b[0m\n",
      "\u001b[?25hRequirement already satisfied: numpy>=1.17 in /usr/local/lib/python3.10/dist-packages (from transformers) (1.23.5)\n",
      "Requirement already satisfied: packaging>=20.0 in /usr/local/lib/python3.10/dist-packages (from transformers) (23.1)\n",
      "Requirement already satisfied: pyyaml>=5.1 in /usr/local/lib/python3.10/dist-packages (from transformers) (6.0.1)\n",
      "Requirement already satisfied: regex!=2019.12.17 in /usr/local/lib/python3.10/dist-packages (from transformers) (2023.6.3)\n",
      "Requirement already satisfied: requests in /usr/local/lib/python3.10/dist-packages (from transformers) (2.31.0)\n",
      "Collecting tokenizers!=0.11.3,<0.14,>=0.11.1 (from transformers)\n",
      "  Downloading tokenizers-0.13.3-cp310-cp310-manylinux_2_17_x86_64.manylinux2014_x86_64.whl (7.8 MB)\n",
      "\u001b[2K     \u001b[90m━━━━━━━━━━━━━━━━━━━━━━━━━━━━━━━━━━━━━━━━\u001b[0m \u001b[32m7.8/7.8 MB\u001b[0m \u001b[31m56.6 MB/s\u001b[0m eta \u001b[36m0:00:00\u001b[0m\n",
      "\u001b[?25hCollecting safetensors>=0.3.1 (from transformers)\n",
      "  Downloading safetensors-0.3.3-cp310-cp310-manylinux_2_17_x86_64.manylinux2014_x86_64.whl (1.3 MB)\n",
      "\u001b[2K     \u001b[90m━━━━━━━━━━━━━━━━━━━━━━━━━━━━━━━━━━━━━━━━\u001b[0m \u001b[32m1.3/1.3 MB\u001b[0m \u001b[31m77.9 MB/s\u001b[0m eta \u001b[36m0:00:00\u001b[0m\n",
      "\u001b[?25hRequirement already satisfied: tqdm>=4.27 in /usr/local/lib/python3.10/dist-packages (from transformers) (4.66.1)\n",
      "Requirement already satisfied: fsspec in /usr/local/lib/python3.10/dist-packages (from huggingface-hub<1.0,>=0.15.1->transformers) (2023.6.0)\n",
      "Requirement already satisfied: typing-extensions>=3.7.4.3 in /usr/local/lib/python3.10/dist-packages (from huggingface-hub<1.0,>=0.15.1->transformers) (4.5.0)\n",
      "Requirement already satisfied: charset-normalizer<4,>=2 in /usr/local/lib/python3.10/dist-packages (from requests->transformers) (3.2.0)\n",
      "Requirement already satisfied: idna<4,>=2.5 in /usr/local/lib/python3.10/dist-packages (from requests->transformers) (3.4)\n",
      "Requirement already satisfied: urllib3<3,>=1.21.1 in /usr/local/lib/python3.10/dist-packages (from requests->transformers) (2.0.4)\n",
      "Requirement already satisfied: certifi>=2017.4.17 in /usr/local/lib/python3.10/dist-packages (from requests->transformers) (2023.7.22)\n",
      "Installing collected packages: tokenizers, safetensors, huggingface-hub, transformers\n",
      "Successfully installed huggingface-hub-0.17.1 safetensors-0.3.3 tokenizers-0.13.3 transformers-4.33.2\n"
     ]
    }
   ],
   "source": [
    "\n",
    "!pip install transformers"
   ]
  },
  {
   "cell_type": "code",
   "execution_count": 2,
   "id": "76d67a22",
   "metadata": {
    "colab": {
     "base_uri": "https://localhost:8080/"
    },
    "id": "NbpqQWKUlIjZ",
    "outputId": "4a82d7fd-3e6e-417a-ee67-f7ec813963bc"
   },
   "outputs": [
    {
     "name": "stdout",
     "output_type": "stream",
     "text": [
      "Cloning into 'bert_gpt_vit'...\n",
      "remote: Enumerating objects: 372, done.\u001b[K\n",
      "remote: Counting objects: 100% (92/92), done.\u001b[K\n",
      "remote: Compressing objects: 100% (90/90), done.\u001b[K\n",
      "remote: Total 372 (delta 5), reused 85 (delta 2), pack-reused 280\u001b[K\n",
      "Receiving objects: 100% (372/372), 17.08 MiB | 14.24 MiB/s, done.\n",
      "Resolving deltas: 100% (13/13), done.\n"
     ]
    }
   ],
   "source": [
    "\n",
    "!git clone https://github.com/adil22jaleel/bert_gpt_vit.git"
   ]
  },
  {
   "cell_type": "code",
   "execution_count": 3,
   "id": "60956809",
   "metadata": {
    "id": "di-hmXl8l_Tk"
   },
   "outputs": [],
   "source": [
    "from bert_gpt_vit.transformers import *"
   ]
  },
  {
   "cell_type": "code",
   "execution_count": 8,
   "id": "c6c0cb86",
   "metadata": {
    "colab": {
     "base_uri": "https://localhost:8080/",
     "height": 917,
     "referenced_widgets": [
      "0a72e33b1b6442daba3eb9c59477aeea",
      "6ea5c43c605c49d5b7e463673e78dedc",
      "d101529ab25345bf816924d8feaad369",
      "c7a59caf15b44fb3ba8c499140ff37e4",
      "6f7d130a0a894d51a82e37d9456e030d",
      "c2ebaa76c6d84b79929c51db29736680",
      "320e4ea320d14bd8a7218f2d960cdd78",
      "fa7e73c7aa1e40e08aafa879ae760755",
      "73921466763f4f3c89bd241ba2614700",
      "0df377f22da14914b24cea651f670bc4",
      "30349fd000be4ef2a972b2e1ec59ae0e"
     ]
    },
    "id": "cZbUDdqBmTRy",
    "outputId": "df0f96f8-dffd-431e-9930-cf53e0f293b1"
   },
   "outputs": [
    {
     "data": {
      "application/vnd.jupyter.widget-view+json": {
       "model_id": "0a72e33b1b6442daba3eb9c59477aeea",
       "version_major": 2,
       "version_minor": 0
      },
      "text/plain": [
       "  0%|          | 0/50 [00:00<?, ?it/s]"
      ]
     },
     "metadata": {},
     "output_type": "display_data"
    },
    {
     "name": "stdout",
     "output_type": "stream",
     "text": [
      "Epoch: 1 | train_loss: 4.8212 | train_acc: 0.2383 | test_loss: 1.0424 | test_acc: 0.5417\n",
      "Epoch: 2 | train_loss: 1.2359 | train_acc: 0.4453 | test_loss: 3.0713 | test_acc: 0.1979\n",
      "Epoch: 3 | train_loss: 1.4682 | train_acc: 0.2578 | test_loss: 1.0930 | test_acc: 0.1979\n",
      "Epoch: 4 | train_loss: 1.1189 | train_acc: 0.3086 | test_loss: 1.3429 | test_acc: 0.2604\n",
      "Epoch: 5 | train_loss: 1.2215 | train_acc: 0.2969 | test_loss: 1.0885 | test_acc: 0.5417\n",
      "Epoch: 6 | train_loss: 1.1224 | train_acc: 0.2969 | test_loss: 1.3156 | test_acc: 0.1979\n",
      "Epoch: 7 | train_loss: 1.2040 | train_acc: 0.3008 | test_loss: 1.1932 | test_acc: 0.2604\n",
      "Epoch: 8 | train_loss: 1.3324 | train_acc: 0.3086 | test_loss: 1.2780 | test_acc: 0.1979\n",
      "Epoch: 9 | train_loss: 1.3068 | train_acc: 0.2930 | test_loss: 1.1791 | test_acc: 0.2604\n",
      "Epoch: 10 | train_loss: 1.2368 | train_acc: 0.4297 | test_loss: 1.0127 | test_acc: 0.5417\n",
      "Epoch: 11 | train_loss: 1.2831 | train_acc: 0.2695 | test_loss: 1.1493 | test_acc: 0.1979\n",
      "Epoch: 12 | train_loss: 1.1971 | train_acc: 0.2969 | test_loss: 1.1360 | test_acc: 0.2604\n",
      "Epoch: 13 | train_loss: 1.1962 | train_acc: 0.2930 | test_loss: 1.1615 | test_acc: 0.2604\n",
      "Epoch: 14 | train_loss: 1.2461 | train_acc: 0.2969 | test_loss: 1.0811 | test_acc: 0.2604\n",
      "Epoch: 15 | train_loss: 1.2190 | train_acc: 0.3203 | test_loss: 1.2172 | test_acc: 0.1979\n",
      "Epoch: 16 | train_loss: 1.2264 | train_acc: 0.2852 | test_loss: 1.0366 | test_acc: 0.5417\n",
      "Epoch: 17 | train_loss: 1.2814 | train_acc: 0.2930 | test_loss: 1.2488 | test_acc: 0.1979\n",
      "Epoch: 18 | train_loss: 1.1172 | train_acc: 0.4062 | test_loss: 1.2783 | test_acc: 0.2604\n",
      "Epoch: 19 | train_loss: 1.1688 | train_acc: 0.2656 | test_loss: 1.1266 | test_acc: 0.1979\n",
      "Epoch: 20 | train_loss: 1.2134 | train_acc: 0.2930 | test_loss: 1.0960 | test_acc: 0.1979\n",
      "Epoch: 21 | train_loss: 1.1283 | train_acc: 0.3945 | test_loss: 1.0194 | test_acc: 0.5417\n",
      "Epoch: 22 | train_loss: 1.1232 | train_acc: 0.4023 | test_loss: 1.2094 | test_acc: 0.1979\n",
      "Epoch: 23 | train_loss: 1.1964 | train_acc: 0.2930 | test_loss: 1.0920 | test_acc: 0.1979\n",
      "Epoch: 24 | train_loss: 1.2524 | train_acc: 0.2617 | test_loss: 1.0549 | test_acc: 0.5417\n",
      "Epoch: 25 | train_loss: 1.1304 | train_acc: 0.3047 | test_loss: 1.3959 | test_acc: 0.1979\n",
      "Epoch: 26 | train_loss: 1.1160 | train_acc: 0.3945 | test_loss: 1.1323 | test_acc: 0.2604\n",
      "Epoch: 27 | train_loss: 1.1474 | train_acc: 0.3047 | test_loss: 1.1028 | test_acc: 0.2604\n",
      "Epoch: 28 | train_loss: 1.1495 | train_acc: 0.2969 | test_loss: 1.1626 | test_acc: 0.1979\n",
      "Epoch: 29 | train_loss: 1.0972 | train_acc: 0.4258 | test_loss: 1.0218 | test_acc: 0.5417\n",
      "Epoch: 30 | train_loss: 1.1661 | train_acc: 0.2812 | test_loss: 1.0615 | test_acc: 0.5417\n",
      "Epoch: 31 | train_loss: 1.1245 | train_acc: 0.2930 | test_loss: 1.3248 | test_acc: 0.2604\n",
      "Epoch: 32 | train_loss: 1.1022 | train_acc: 0.4336 | test_loss: 1.2106 | test_acc: 0.1979\n",
      "Epoch: 33 | train_loss: 1.1486 | train_acc: 0.2930 | test_loss: 1.1365 | test_acc: 0.1979\n",
      "Epoch: 34 | train_loss: 1.1337 | train_acc: 0.2773 | test_loss: 1.0962 | test_acc: 0.2604\n",
      "Epoch: 35 | train_loss: 1.1472 | train_acc: 0.3164 | test_loss: 1.0449 | test_acc: 0.5417\n",
      "Epoch: 36 | train_loss: 1.1387 | train_acc: 0.2930 | test_loss: 1.1721 | test_acc: 0.1979\n",
      "Epoch: 37 | train_loss: 1.1098 | train_acc: 0.3008 | test_loss: 1.0785 | test_acc: 0.5417\n",
      "Epoch: 38 | train_loss: 1.0921 | train_acc: 0.4219 | test_loss: 1.1427 | test_acc: 0.1979\n",
      "Epoch: 39 | train_loss: 1.1070 | train_acc: 0.2930 | test_loss: 1.2060 | test_acc: 0.1979\n",
      "Epoch: 40 | train_loss: 1.1235 | train_acc: 0.2930 | test_loss: 1.1702 | test_acc: 0.2604\n",
      "Epoch: 41 | train_loss: 1.0915 | train_acc: 0.4375 | test_loss: 1.1651 | test_acc: 0.1979\n",
      "Epoch: 42 | train_loss: 1.1275 | train_acc: 0.2930 | test_loss: 1.1333 | test_acc: 0.1979\n",
      "Epoch: 43 | train_loss: 1.1337 | train_acc: 0.2969 | test_loss: 1.0577 | test_acc: 0.5417\n",
      "Epoch: 44 | train_loss: 1.0832 | train_acc: 0.4062 | test_loss: 1.1199 | test_acc: 0.2604\n",
      "Epoch: 45 | train_loss: 1.1400 | train_acc: 0.3047 | test_loss: 1.1687 | test_acc: 0.2604\n",
      "Epoch: 46 | train_loss: 1.1354 | train_acc: 0.3047 | test_loss: 1.1585 | test_acc: 0.1979\n",
      "Epoch: 47 | train_loss: 1.1113 | train_acc: 0.2969 | test_loss: 1.0857 | test_acc: 0.5417\n",
      "Epoch: 48 | train_loss: 1.1107 | train_acc: 0.2773 | test_loss: 1.1000 | test_acc: 0.2604\n",
      "Epoch: 49 | train_loss: 1.0927 | train_acc: 0.3906 | test_loss: 1.1426 | test_acc: 0.1979\n",
      "Epoch: 50 | train_loss: 1.1131 | train_acc: 0.2930 | test_loss: 1.1673 | test_acc: 0.1979\n"
     ]
    }
   ],
   "source": [
    "transformers_combined(\"VIT\",50)"
   ]
  }
 ],
 "metadata": {
  "kernelspec": {
   "display_name": "Python 3 (ipykernel)",
   "language": "python",
   "name": "python3"
  },
  "language_info": {
   "codemirror_mode": {
    "name": "ipython",
    "version": 3
   },
   "file_extension": ".py",
   "mimetype": "text/x-python",
   "name": "python",
   "nbconvert_exporter": "python",
   "pygments_lexer": "ipython3",
   "version": "3.9.7"
  }
 },
 "nbformat": 4,
 "nbformat_minor": 5
}
